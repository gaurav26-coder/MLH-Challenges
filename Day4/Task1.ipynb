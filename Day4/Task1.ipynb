{
  "nbformat": 4,
  "nbformat_minor": 0,
  "metadata": {
    "colab": {
      "name": "Untitled1.ipynb",
      "provenance": []
    },
    "kernelspec": {
      "name": "python3",
      "display_name": "Python 3"
    },
    "language_info": {
      "name": "python"
    }
  },
  "cells": [
    {
      "cell_type": "markdown",
      "metadata": {
        "id": "xz2mCEqI1_VG"
      },
      "source": [
        "#**Welcome to Introductory Session on AI**\n",
        "**By-Gaurav Prasad**"
      ]
    },
    {
      "cell_type": "markdown",
      "metadata": {
        "id": "th2Hbu_x2Ace"
      },
      "source": [
        "So for today we would be seeing **Graph Coloring Problem**\n",
        "\n",
        "**Graph coloring** is the procedure of assignment of colors to each vertex of a graph G such that no adjacent vertices get same color. The objective is to minimize the number of colors while coloring a graph. The smallest number of colors required to color a graph G is called its chromatic number of that graph. Graph coloring problem is a NP Complete problem.\n",
        "\n",
        "Method to Color a Graph\n",
        "The steps required to color a graph G with n number of vertices are as follows −\n",
        "\n",
        "Step 1 − Arrange the vertices of the graph in some order.\n",
        "\n",
        "Step 2 − Choose the first vertex and color it with the first color.\n",
        "\n",
        "Step 3 − Choose the next vertex and color it with the lowest numbered color that has not been colored on any vertices adjacent to it. If all the adjacent vertices are colored with this color, assign a new color to it. Repeat this step until all the vertices are colored.\n",
        "\n",
        "**Example**"
      ]
    },
    {
      "cell_type": "code",
      "metadata": {
        "colab": {
          "base_uri": "https://localhost:8080/"
        },
        "id": "qvFwTZW01-AM",
        "outputId": "1204da89-0b46-4ba3-a8c7-67bc81ab43e1"
      },
      "source": [
        "global N\n",
        "N=int(input(\"Enter the number of nodes:\"))\n",
        "def isSafe(graph, color):\n",
        "    for i in range(N):\n",
        "        for j in range(i + 1, N):\n",
        "            if (graph[i][j] and color[j] == color[i]):\n",
        "                return False\n",
        "    return True\n",
        "def graphColoring(graph, m, i, color):\n",
        "    if (i == N): \n",
        "        if (isSafe(graph, color)): \n",
        "            printSolution(color)\n",
        "            return True\n",
        "        return False\n",
        "    for j in range(1, m + 1):\n",
        "        color[i] = j\n",
        "        if (graphColoring(graph, m, i + 1, color)):\n",
        "            return True\n",
        "        color[i] = 0\n",
        "    return False\n",
        "def printSolution(color):\n",
        "    print(\"Solution Exists:  Following are the assigned colors \")\n",
        "    for i in range(N):\n",
        "        if color[i]==1:\n",
        "          c=\"Red\"\n",
        "        elif color[i]==2:\n",
        "          c=\"Blue\"\n",
        "        elif color[i]==3:\n",
        "          c=\"Green\"\n",
        "        print(\"Color assigned to node \"+ str(i+1) + \" is: \"+ c)\n",
        "if __name__ == '__main__':  \n",
        "    graph=[]\n",
        "    for i in range(N):\n",
        "      print(\"Enter the connections for node: \" + str(i+1))\n",
        "      a=list(map(int,input().split()))\n",
        "      graph.append(a)\n",
        "    m = 3\n",
        "    color = [0 for i in range(N)] \n",
        "    if (not graphColoring(graph, m, 0, color)):\n",
        "        print (\"Solution does not exist\")"
      ],
      "execution_count": null,
      "outputs": [
        {
          "output_type": "stream",
          "text": [
            "Enter the number of nodes:5\n",
            "Enter the connections for node: 1\n",
            "0 1 0 0 1\n",
            "Enter the connections for node: 2\n",
            "1 0 1 0 1\n",
            "Enter the connections for node: 3\n",
            "0 1 0 1 1\n",
            "Enter the connections for node: 4\n",
            "0 0 1 0 1\n",
            "Enter the connections for node: 5\n",
            "1 1 1 1 0\n",
            "Solution Exists:  Following are the assigned colors \n",
            "Color assigned to node 1 is: Red\n",
            "Color assigned to node 2 is: Blue\n",
            "Color assigned to node 3 is: Red\n",
            "Color assigned to node 4 is: Blue\n",
            "Color assigned to node 5 is: Green\n"
          ],
          "name": "stdout"
        }
      ]
    },
    {
      "cell_type": "markdown",
      "metadata": {
        "id": "dLp3lGt_3mq4"
      },
      "source": [
        "**Applications of Graph Coloring**\n",
        "\n",
        "Some applications of graph coloring include −\n",
        "\n",
        "Register Allocation\n",
        "\n",
        "Map Coloring\n",
        "\n",
        "Bipartite Graph Checking\n",
        "\n",
        "Mobile Radio Frequency Assignment\n",
        "\n",
        "Making time table, etc."
      ]
    },
    {
      "cell_type": "markdown",
      "metadata": {
        "id": "F4PPSHAr4xST"
      },
      "source": [
        "** Thats all for this session**\n",
        "\n",
        "See you next time!!"
      ]
    }
  ]
}