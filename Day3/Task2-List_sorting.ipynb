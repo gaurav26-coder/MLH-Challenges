{
  "nbformat": 4,
  "nbformat_minor": 0,
  "metadata": {
    "colab": {
      "name": "Day3-Task2.ipynb",
      "provenance": []
    },
    "kernelspec": {
      "name": "python3",
      "display_name": "Python 3"
    },
    "language_info": {
      "name": "python"
    }
  },
  "cells": [
    {
      "cell_type": "markdown",
      "metadata": {
        "id": "kq9RcZ5WzFVl"
      },
      "source": [
        "#**Welcome to Introdructory session on List sorting**\n",
        "**By- Gaurav Prasad**\n",
        "\n"
      ]
    },
    {
      "cell_type": "markdown",
      "metadata": {
        "id": "cRDeWDhpzVF4"
      },
      "source": [
        "**Those who are beginners i would recommend them to first have a look at this codes-**https://colab.research.google.com/drive/1XmgS9XghJAJRHGlVZ9tL5Z8i2ZVhoXSL?usp=sharing \n",
        "\n",
        "(This link contains all the basics for python including list)\n",
        "\n",
        "\n"
      ]
    },
    {
      "cell_type": "code",
      "metadata": {
        "colab": {
          "base_uri": "https://localhost:8080/"
        },
        "id": "Z2m8qxzuzEn_",
        "outputId": "a0e5f85c-3bb0-4119-a060-0a7b2104062f"
      },
      "source": [
        "# basic list sort using inbuilt function sort\n",
        "n=[85,23,54,142,1,90]\n",
        "n.sort()\n",
        "print(n)"
      ],
      "execution_count": 1,
      "outputs": [
        {
          "output_type": "stream",
          "text": [
            "[1, 23, 54, 85, 90, 142]\n"
          ],
          "name": "stdout"
        }
      ]
    },
    {
      "cell_type": "code",
      "metadata": {
        "colab": {
          "base_uri": "https://localhost:8080/"
        },
        "id": "2BtEcPNJyoBU",
        "outputId": "540dc77f-01e5-4080-b9be-0581db142a5d"
      },
      "source": [
        "# some functions on sort \n",
        "n.sort(reverse=True)\n",
        "print(n)"
      ],
      "execution_count": 2,
      "outputs": [
        {
          "output_type": "stream",
          "text": [
            "[142, 90, 85, 54, 23, 1]\n"
          ],
          "name": "stdout"
        }
      ]
    },
    {
      "cell_type": "markdown",
      "metadata": {
        "id": "mZfVheV90xK7"
      },
      "source": [
        "From the above two codes we can see the first case printed the list in ascending order, i.e by default python sorts list in ascending order. \n",
        "\n",
        "For the second code we reversed the list n and marked it as True indicating it to print sorted elements in a reverse order."
      ]
    },
    {
      "cell_type": "code",
      "metadata": {
        "colab": {
          "base_uri": "https://localhost:8080/"
        },
        "id": "HRrZY6Cv0weX",
        "outputId": "18a8c1b7-767d-4b4e-af2b-03965fd12ba4"
      },
      "source": [
        "# Sort by key argument\n",
        "def myFunc(e):\n",
        "  return len(e)\n",
        "n=['Football', 'Rugby', 'Baseball', 'Cricket']\n",
        "n.sort(key=myFunc) \n",
        "print(n)"
      ],
      "execution_count": 3,
      "outputs": [
        {
          "output_type": "stream",
          "text": [
            "['Rugby', 'Cricket', 'Football', 'Baseball']\n"
          ],
          "name": "stdout"
        }
      ]
    },
    {
      "cell_type": "code",
      "metadata": {
        "colab": {
          "base_uri": "https://localhost:8080/"
        },
        "id": "SNlDYWnx2Szu",
        "outputId": "f5a2df21-1f60-49f5-9c17-cac09b76c59b"
      },
      "source": [
        "# some example question using key argument\n",
        "def reverse_word(word):\n",
        "  return word[::-1]\n",
        "words = ['banana', 'mango', 'Watermelon', 'kiwi']\n",
        "sorted(words, key=reverse_word)"
      ],
      "execution_count": 4,
      "outputs": [
        {
          "output_type": "execute_result",
          "data": {
            "text/plain": [
              "['banana', 'kiwi', 'Watermelon', 'mango']"
            ]
          },
          "metadata": {
            "tags": []
          },
          "execution_count": 4
        }
      ]
    },
    {
      "cell_type": "code",
      "metadata": {
        "colab": {
          "base_uri": "https://localhost:8080/"
        },
        "id": "OxAOmT9e3S1w",
        "outputId": "7c1560d8-ceab-4e9d-8ade-da87303f1c96"
      },
      "source": [
        "# To find largest and second largest number in the list\n",
        "n=[85,23,54,142,1,90,34,62]\n",
        "n.sort()\n",
        "print(\"Largest element is=\", n[-1])\n",
        "print(\"Second largest element is=\", n[-2])"
      ],
      "execution_count": 5,
      "outputs": [
        {
          "output_type": "stream",
          "text": [
            "Largest element is= 142\n",
            "Second largest element is= 90\n"
          ],
          "name": "stdout"
        }
      ]
    },
    {
      "cell_type": "code",
      "metadata": {
        "colab": {
          "base_uri": "https://localhost:8080/"
        },
        "id": "UXrBl5Ss4Wi7",
        "outputId": "e7de3358-6849-4cba-99d6-eb69db02bd00"
      },
      "source": [
        "# To find smallest and second smallest number in the list\n",
        "n=[85,23,54,142,1,90,34,62]\n",
        "n.sort()\n",
        "print(\"Smallest element is=\", n[0])\n",
        "print(\"Second smallest element is=\", n[1])"
      ],
      "execution_count": 6,
      "outputs": [
        {
          "output_type": "stream",
          "text": [
            "Smallest element is= 1\n",
            "Second smallest element is= 23\n"
          ],
          "name": "stdout"
        }
      ]
    },
    {
      "cell_type": "markdown",
      "metadata": {
        "id": "qCqREgRv4osk"
      },
      "source": [
        "# **Thats all Folk for this tutorial!!**\n",
        "\n",
        "See you next time, stay tuned!!"
      ]
    }
  ]
}