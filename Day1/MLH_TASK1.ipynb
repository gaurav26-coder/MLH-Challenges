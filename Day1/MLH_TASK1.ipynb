{
  "nbformat": 4,
  "nbformat_minor": 0,
  "metadata": {
    "colab": {
      "name": "MLH TASK1.ipynb",
      "provenance": []
    },
    "kernelspec": {
      "name": "python3",
      "display_name": "Python 3"
    },
    "language_info": {
      "name": "python"
    }
  },
  "cells": [
    {
      "cell_type": "markdown",
      "metadata": {
        "id": "OSVr-4E3i4hH"
      },
      "source": [
        "## **New to Python language**\n",
        "**By - Gaurav Prasad**\n",
        "\n"
      ]
    },
    {
      "cell_type": "code",
      "metadata": {
        "colab": {
          "base_uri": "https://localhost:8080/"
        },
        "id": "79oe3T68i1bs",
        "outputId": "5edc95e7-ef54-4958-8a28-15f261574891"
      },
      "source": [
        "#print statemet is use to print anything in python\n",
        "print(\"Hey there, I'm new to python\")"
      ],
      "execution_count": 1,
      "outputs": [
        {
          "output_type": "stream",
          "text": [
            "Hey there, I'm new to python\n"
          ],
          "name": "stdout"
        }
      ]
    },
    {
      "cell_type": "code",
      "metadata": {
        "colab": {
          "base_uri": "https://localhost:8080/"
        },
        "id": "WMlDKk4ujU30",
        "outputId": "5173c1e1-dff4-4a19-f33b-a6bebf914fb6"
      },
      "source": [
        "# some basic maths functions like addition,substraction,multiplication and division\n",
        "print(2+3)\n",
        "print(3-1)\n",
        "print(23*5)\n",
        "print(12/3)"
      ],
      "execution_count": 2,
      "outputs": [
        {
          "output_type": "stream",
          "text": [
            "5\n",
            "2\n",
            "115\n",
            "4.0\n"
          ],
          "name": "stdout"
        }
      ]
    },
    {
      "cell_type": "markdown",
      "metadata": {
        "id": "SE_uulszjtVU"
      },
      "source": [
        "Note python has two divison symbols, first one / ->means float division result output, second // -> integer division"
      ]
    },
    {
      "cell_type": "code",
      "metadata": {
        "colab": {
          "base_uri": "https://localhost:8080/"
        },
        "id": "D5O6pyL3kEkt",
        "outputId": "62b68f9b-2e5d-4dfd-bf11-9724843141ee"
      },
      "source": [
        "# integer division\n",
        "a=34\n",
        "b=4\n",
        "print(a//b)"
      ],
      "execution_count": 3,
      "outputs": [
        {
          "output_type": "stream",
          "text": [
            "8\n"
          ],
          "name": "stdout"
        }
      ]
    },
    {
      "cell_type": "code",
      "metadata": {
        "colab": {
          "base_uri": "https://localhost:8080/"
        },
        "id": "6aPu9EqhkS8X",
        "outputId": "60c0abcc-8efa-4807-877e-13514151f4a9"
      },
      "source": [
        "# user input code\n",
        "n=input(\"\")\n",
        "print(n)"
      ],
      "execution_count": 4,
      "outputs": [
        {
          "output_type": "stream",
          "text": [
            "12\n",
            "12\n"
          ],
          "name": "stdout"
        }
      ]
    },
    {
      "cell_type": "code",
      "metadata": {
        "colab": {
          "base_uri": "https://localhost:8080/"
        },
        "id": "tqWsc37hkoWo",
        "outputId": "3057d3d8-6fb6-4794-aaa2-13dab68f4f67"
      },
      "source": [
        "#to see what is the type of the input we use type() function\n",
        "n=input(\"\")\n",
        "print(type(n))"
      ],
      "execution_count": 5,
      "outputs": [
        {
          "output_type": "stream",
          "text": [
            "wet\n",
            "<class 'str'>\n"
          ],
          "name": "stdout"
        }
      ]
    },
    {
      "cell_type": "code",
      "metadata": {
        "colab": {
          "base_uri": "https://localhost:8080/"
        },
        "id": "NoBp4SYxlC1o",
        "outputId": "905ac49c-1e29-42bc-89be-ba55f09b4172"
      },
      "source": [
        "# for integer,float type\n",
        "n=int(input(\"\"))\n",
        "m=float(input(\"\"))\n",
        "print(type(n))\n",
        "print(type(m))"
      ],
      "execution_count": 6,
      "outputs": [
        {
          "output_type": "stream",
          "text": [
            "78\n",
            "9.23\n",
            "<class 'int'>\n",
            "<class 'float'>\n"
          ],
          "name": "stdout"
        }
      ]
    },
    {
      "cell_type": "code",
      "metadata": {
        "colab": {
          "base_uri": "https://localhost:8080/"
        },
        "id": "lUToO3zJlybJ",
        "outputId": "e6cc6ea3-1fa3-4ce8-c043-a5d2a998f808"
      },
      "source": [
        "# if else conditions\n",
        "print(\"voting Conditions\")\n",
        "n=int(input(\"\"))\n",
        "if n>=18:\n",
        "  print(\"eligible to vote\")\n",
        "else:\n",
        "  print(\"Not eligible to vote\")\n"
      ],
      "execution_count": 7,
      "outputs": [
        {
          "output_type": "stream",
          "text": [
            "voting Conditions\n",
            "78\n",
            "eligible to vote\n"
          ],
          "name": "stdout"
        }
      ]
    },
    {
      "cell_type": "code",
      "metadata": {
        "colab": {
          "base_uri": "https://localhost:8080/"
        },
        "id": "ACbqyktsnhOF",
        "outputId": "b132ea70-30f6-40f8-d2d3-2bf2894d672e"
      },
      "source": [
        "# if elif conditions\n",
        "n=int(input(\"\"))\n",
        "if n%2==0:\n",
        "  print(\"Divisible by 2\")\n",
        "elif n%5==0:\n",
        "  print(\"Divisible by 5\")\n",
        "else:\n",
        "  print(\"Not Divisible\")"
      ],
      "execution_count": 8,
      "outputs": [
        {
          "output_type": "stream",
          "text": [
            "62\n",
            "Divisible by 2\n"
          ],
          "name": "stdout"
        }
      ]
    },
    {
      "cell_type": "code",
      "metadata": {
        "colab": {
          "base_uri": "https://localhost:8080/"
        },
        "id": "CqpfmU0coW2U",
        "outputId": "28e7f63b-23a9-41de-d092-8da79525ac93"
      },
      "source": [
        "# Nested if conditions\n",
        "n= int(input(\"\"))\n",
        "m= int(input(\"\"))\n",
        "if n==3 | m==4:\n",
        "  print(\"or operation\")\n",
        "if n==6 & m==3:\n",
        "  print(\"and Operation\")\n",
        "else:\n",
        "  print(\"None of the above\")"
      ],
      "execution_count": 9,
      "outputs": [
        {
          "output_type": "stream",
          "text": [
            "6\n",
            "2\n",
            "None of the above\n"
          ],
          "name": "stdout"
        }
      ]
    },
    {
      "cell_type": "code",
      "metadata": {
        "colab": {
          "base_uri": "https://localhost:8080/"
        },
        "id": "W0HeLztRpZ8I",
        "outputId": "2da0449a-d217-4f0a-d77e-0a4a4800242e"
      },
      "source": [
        "# for loop\n",
        "print(\"simple for-loop program\")\n",
        "n= int(input(\"\"))\n",
        "for i in range(n):\n",
        "  print(i)\n",
        "  "
      ],
      "execution_count": 10,
      "outputs": [
        {
          "output_type": "stream",
          "text": [
            "simple for-loop program\n",
            "5\n",
            "0\n",
            "1\n",
            "2\n",
            "3\n",
            "4\n"
          ],
          "name": "stdout"
        }
      ]
    },
    {
      "cell_type": "code",
      "metadata": {
        "colab": {
          "base_uri": "https://localhost:8080/"
        },
        "id": "h_P4TldvqOed",
        "outputId": "20fae698-63fd-450c-f541-07871bf8d32f"
      },
      "source": [
        "# while loop conditions\n",
        "n=int(input(\"\"))\n",
        "while(n>0):\n",
        "  n=n-1\n",
        "  print(n)"
      ],
      "execution_count": 11,
      "outputs": [
        {
          "output_type": "stream",
          "text": [
            "5\n",
            "4\n",
            "3\n",
            "2\n",
            "1\n",
            "0\n"
          ],
          "name": "stdout"
        }
      ]
    },
    {
      "cell_type": "code",
      "metadata": {
        "colab": {
          "base_uri": "https://localhost:8080/"
        },
        "id": "Oxw5JFiVqm0L",
        "outputId": "11f57cb3-8148-44e2-cac6-1ad951059907"
      },
      "source": [
        "#list functions\n",
        "l=['a','b','c','d']\n",
        "print(l)\n",
        "print(type(l))"
      ],
      "execution_count": 12,
      "outputs": [
        {
          "output_type": "stream",
          "text": [
            "['a', 'b', 'c', 'd']\n",
            "<class 'list'>\n"
          ],
          "name": "stdout"
        }
      ]
    },
    {
      "cell_type": "code",
      "metadata": {
        "colab": {
          "base_uri": "https://localhost:8080/"
        },
        "id": "znQZlOMFrUUT",
        "outputId": "de9f5757-5f1b-4909-8312-b787e8123644"
      },
      "source": [
        "# to create a user list\n",
        "lst = [] \n",
        "# number of elemetns as input\n",
        "n = int(input(\"Enter number of elements : \"))\n",
        "# iterating till the range\n",
        "for i in range(0, n):\n",
        "    ele = int(input())\n",
        "    lst.append(ele) # adding the element  \n",
        "print(lst)"
      ],
      "execution_count": 13,
      "outputs": [
        {
          "output_type": "stream",
          "text": [
            "Enter number of elements : 3\n",
            "1\n",
            "8\n",
            "3\n",
            "[1, 8, 3]\n"
          ],
          "name": "stdout"
        }
      ]
    },
    {
      "cell_type": "code",
      "metadata": {
        "colab": {
          "base_uri": "https://localhost:8080/"
        },
        "id": "jTX9-JTJr8AI",
        "outputId": "1e4ea95f-a1f5-4f84-8e17-bf55d7ff66bf"
      },
      "source": [
        "# to delete elements from a list\n",
        "l=[1,3,4,5,6,7,9,0]\n",
        "l.remove(9)\n",
        "l"
      ],
      "execution_count": 14,
      "outputs": [
        {
          "output_type": "execute_result",
          "data": {
            "text/plain": [
              "[1, 3, 4, 5, 6, 7, 0]"
            ]
          },
          "metadata": {
            "tags": []
          },
          "execution_count": 14
        }
      ]
    },
    {
      "cell_type": "code",
      "metadata": {
        "colab": {
          "base_uri": "https://localhost:8080/"
        },
        "id": "fzh2ARMZsoJk",
        "outputId": "129e0ba7-eeec-46e4-9257-47dd413eb4fa"
      },
      "source": [
        "# to use built in functions on list\n",
        "#sort function\n",
        "prices = [238.11, 237.81, 238.91]\n",
        "prices.sort()\n",
        "print(prices)"
      ],
      "execution_count": 15,
      "outputs": [
        {
          "output_type": "stream",
          "text": [
            "[237.81, 238.11, 238.91]\n"
          ],
          "name": "stdout"
        }
      ]
    },
    {
      "cell_type": "code",
      "metadata": {
        "colab": {
          "base_uri": "https://localhost:8080/"
        },
        "id": "Fe6ftNGGtH6Y",
        "outputId": "ade0b09b-9cfb-4b2b-ce45-221286b9f65e"
      },
      "source": [
        "#extend function\n",
        "x = [1, 2, 3]\n",
        "x.extend([4, 5])\n",
        "x"
      ],
      "execution_count": 16,
      "outputs": [
        {
          "output_type": "execute_result",
          "data": {
            "text/plain": [
              "[1, 2, 3, 4, 5]"
            ]
          },
          "metadata": {
            "tags": []
          },
          "execution_count": 16
        }
      ]
    },
    {
      "cell_type": "code",
      "metadata": {
        "colab": {
          "base_uri": "https://localhost:8080/"
        },
        "id": "ow2WiVVHtTr_",
        "outputId": "02c631a6-071a-464b-832b-1192aaa1a937"
      },
      "source": [
        "# index function\n",
        "months = ['January', 'February', 'March']\n",
        "prices = [238.11, 237.81, 238.91]\n",
        "months.index('February')"
      ],
      "execution_count": 17,
      "outputs": [
        {
          "output_type": "execute_result",
          "data": {
            "text/plain": [
              "1"
            ]
          },
          "metadata": {
            "tags": []
          },
          "execution_count": 17
        }
      ]
    },
    {
      "cell_type": "code",
      "metadata": {
        "colab": {
          "base_uri": "https://localhost:8080/"
        },
        "id": "JL3EmPh6tewC",
        "outputId": "c280a54a-5dd7-4550-932a-f9801f3e1ac5"
      },
      "source": [
        "# max function\n",
        "prices = [159.54, 37.13, 71.17]\n",
        "price_max = max(prices)\n",
        "print(price_max)"
      ],
      "execution_count": 18,
      "outputs": [
        {
          "output_type": "stream",
          "text": [
            "159.54\n"
          ],
          "name": "stdout"
        }
      ]
    },
    {
      "cell_type": "code",
      "metadata": {
        "colab": {
          "base_uri": "https://localhost:8080/"
        },
        "id": "dvbYJOEtth_w",
        "outputId": "94ee4a17-e890-4b6e-dc77-b5d47e205979"
      },
      "source": [
        "# min function\n",
        "prices = [159.54, 37.13, 71.17]\n",
        "price_min = min(prices)\n",
        "print(price_min)"
      ],
      "execution_count": 19,
      "outputs": [
        {
          "output_type": "stream",
          "text": [
            "37.13\n"
          ],
          "name": "stdout"
        }
      ]
    },
    {
      "cell_type": "code",
      "metadata": {
        "colab": {
          "base_uri": "https://localhost:8080/"
        },
        "id": "XTa4dcwEttrl",
        "outputId": "c10c3a91-0ca4-4c3a-ac17-22c619a826e1"
      },
      "source": [
        "# sum function\n",
        "prices = [159.54, 37.13, 71.17]\n",
        "total = sum(prices)\n",
        "print(total)"
      ],
      "execution_count": 20,
      "outputs": [
        {
          "output_type": "stream",
          "text": [
            "267.84\n"
          ],
          "name": "stdout"
        }
      ]
    },
    {
      "cell_type": "code",
      "metadata": {
        "colab": {
          "base_uri": "https://localhost:8080/"
        },
        "id": "hAULT5lCt2kV",
        "outputId": "c63e709a-19dd-459a-a10a-eb98849b7de4"
      },
      "source": [
        "# len functions\n",
        "p = [159.54, 37.13, 71.17]\n",
        "print(len(p))"
      ],
      "execution_count": 21,
      "outputs": [
        {
          "output_type": "stream",
          "text": [
            "3\n"
          ],
          "name": "stdout"
        }
      ]
    },
    {
      "cell_type": "markdown",
      "metadata": {
        "id": "kXMyIfcJuIW1"
      },
      "source": [
        "**Thats all Folks!!!\n",
        "See you next time!!!**"
      ]
    }
  ]
}